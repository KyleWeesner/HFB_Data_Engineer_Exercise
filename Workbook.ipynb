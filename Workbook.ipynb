{
 "cells": [
  {
   "cell_type": "markdown",
   "metadata": {},
   "source": [
    "# HFB Data Engineer Exercise \n",
    "Using the most timely and accurate data available on [https://www.census.gov/en.html](https://www.census.gov/en.html), write a python script that pulls the following poverty data for Harris County, TX in the year 2018:\n",
    "\n",
    "- Estimate of the number of people under the age of 18 in poverty\n",
    "- Estimate of the number of people of any age in poverty\n",
    "- Estimate of the median household income\n",
    "\n",
    "Your script should then write this data to a .csv file, including appropriately named headers. When finished, push your code to a public git repo.\n",
    "\n",
    "**Requirements**:\n",
    "\n",
    "- Use an api key to authenticate your requests\n",
    "- Use the requests library (no custom libraries that pull Census data)"
   ]
  },
  {
   "cell_type": "markdown",
   "metadata": {},
   "source": [
    "## Loading in Required Libraries and api_key"
   ]
  },
  {
   "cell_type": "code",
   "execution_count": 109,
   "metadata": {},
   "outputs": [],
   "source": [
    "import pandas as pd\n",
    "import json\n",
    "import requests"
   ]
  },
  {
   "cell_type": "code",
   "execution_count": 110,
   "metadata": {},
   "outputs": [],
   "source": [
    "def get_keys(path):\n",
    "    with open(path) as f:\n",
    "        return json.load(f)\n",
    "\n",
    "# Using the function to open and load all keys in that file \n",
    "api_key = list((get_keys('/Users/weesn/Documents/Flatiron/secrets.json')).values())[2]"
   ]
  },
  {
   "cell_type": "code",
   "execution_count": 111,
   "metadata": {},
   "outputs": [],
   "source": [
    "State = '48'  #code for Texas in API\n",
    "County = '201' #code for Harris county in API"
   ]
  },
  {
   "cell_type": "markdown",
   "metadata": {},
   "source": [
    "Further explaination on [How the Census Bareau Measures Poverty](https://www.census.gov/topics/income-poverty/poverty/guidance/poverty-measures.html)."
   ]
  },
  {
   "cell_type": "markdown",
   "metadata": {},
   "source": [
    "## Estimate of the number of people under the age of 18 in poverty"
   ]
  },
  {
   "cell_type": "code",
   "execution_count": 115,
   "metadata": {},
   "outputs": [
    {
     "data": {
      "text/plain": [
       "200"
      ]
     },
     "execution_count": 115,
     "metadata": {},
     "output_type": "execute_result"
    }
   ],
   "source": [
    "Name = 'DP03_0129PE' \n",
    "\"\"\"Percent Estimate!!PERCENTAGE OF FAMILIES AND PEOPLE WHOSE INCOME IN THE PAST 12 MONTHS IS BELOW THE POVERTY LEVEL!!\n",
    "All people!!Under 18 years\"\"\"\n",
    "\n",
    "# get request\n",
    "r_18uPovertyPercent = requests.get(f'https://api.census.gov/data/2018/acs/acs1/profile?get=NAME,{Name}&for=county:{County}&in=state:{State}&key={api_key}')\n",
    "#checking HTTP response status code for successfull response\n",
    "r_18uPovertyPercent.status_code "
   ]
  },
  {
   "cell_type": "code",
   "execution_count": 116,
   "metadata": {},
   "outputs": [
    {
     "data": {
      "text/plain": [
       "[['NAME', 'DP03_0129PE', 'state', 'county'],\n",
       " ['Harris County, Texas', '25.4', '48', '201']]"
      ]
     },
     "execution_count": 116,
     "metadata": {},
     "output_type": "execute_result"
    }
   ],
   "source": [
    "#observing data\n",
    "r_18uPovertyPercent.json() "
   ]
  },
  {
   "cell_type": "markdown",
   "metadata": {},
   "source": [
    "Value is returned as a str(float) in percent format."
   ]
  },
  {
   "cell_type": "code",
   "execution_count": 117,
   "metadata": {},
   "outputs": [
    {
     "data": {
      "text/plain": [
       "200"
      ]
     },
     "execution_count": 117,
     "metadata": {},
     "output_type": "execute_result"
    }
   ],
   "source": [
    "Name = 'B09001_001E'\n",
    "\"\"\"Estimate!!Total\n",
    "POPULATION UNDER 18 YEARS BY AGE\"\"\"\n",
    "\n",
    "#get request\n",
    "r_18uPopulation = requests.get(f'https://api.census.gov/data/2018/acs/acs1?get=NAME,{Name}&for=county:{County}&in=state:{State}&key={api_key}')\n",
    "#checking HTTP response status code for successfull response\n",
    "r_18uPopulation.status_code "
   ]
  },
  {
   "cell_type": "code",
   "execution_count": 119,
   "metadata": {},
   "outputs": [
    {
     "data": {
      "text/plain": [
       "[['NAME', 'B09001_001E', 'state', 'county'],\n",
       " ['Harris County, Texas', '1251684', '48', '201']]"
      ]
     },
     "execution_count": 119,
     "metadata": {},
     "output_type": "execute_result"
    }
   ],
   "source": [
    "#observing data\n",
    "r_18uPopulation.json()"
   ]
  },
  {
   "cell_type": "markdown",
   "metadata": {},
   "source": [
    "Estimate of the number of people under the age of 18 in poverty = (total pop. under 18) * (percent of under 18 below the poverty level)"
   ]
  },
  {
   "cell_type": "code",
   "execution_count": 121,
   "metadata": {},
   "outputs": [
    {
     "data": {
      "text/plain": [
       "'Estimate of the number of people under the age of 18 in poverty is 317928 people.'"
      ]
     },
     "execution_count": 121,
     "metadata": {},
     "output_type": "execute_result"
    }
   ],
   "source": [
    "#Need to put the values into a numerical form to multiply.  Rounding because you can't have part of a person\n",
    "est_18u_poverty = round(int(r_18uPopulation.json()[1][1]) * (float(r_18uPovertyPercent.json()[1][1])/100))\n",
    "f'Estimate of the number of people under the age of 18 in poverty is {est_18u_poverty} people.'"
   ]
  },
  {
   "cell_type": "markdown",
   "metadata": {},
   "source": [
    "## Estimate of the number of people of any age in poverty"
   ]
  },
  {
   "cell_type": "code",
   "execution_count": 101,
   "metadata": {},
   "outputs": [
    {
     "data": {
      "text/plain": [
       "200"
      ]
     },
     "execution_count": 101,
     "metadata": {},
     "output_type": "execute_result"
    }
   ],
   "source": [
    "Name = 'B17001_002E'\n",
    "\"\"\"Estimate!!Total!!Income in the past 12 months below poverty level\"\"\"\n",
    "\n",
    "# get request\n",
    "r_PopPoverty = requests.get(f'https://api.census.gov/data/2018/acs/acs1?get=NAME,{Name}&for=county:{County}&in=state:{State}&key={api_key}')\n",
    "#checking HTTP response status code for successfull response\n",
    "r_PopPoverty.status_code "
   ]
  },
  {
   "cell_type": "code",
   "execution_count": 122,
   "metadata": {},
   "outputs": [
    {
     "data": {
      "text/plain": [
       "[['NAME', 'B17001_002E', 'state', 'county'],\n",
       " ['Harris County, Texas', '771892', '48', '201']]"
      ]
     },
     "execution_count": 122,
     "metadata": {},
     "output_type": "execute_result"
    }
   ],
   "source": [
    "# Observing Data\n",
    "r_PopPoverty.json()"
   ]
  },
  {
   "cell_type": "code",
   "execution_count": 103,
   "metadata": {},
   "outputs": [
    {
     "data": {
      "text/plain": [
       "'Estimate of the number of people of any age in poverty is 771892 people'"
      ]
     },
     "execution_count": 103,
     "metadata": {},
     "output_type": "execute_result"
    }
   ],
   "source": [
    "PopPoverty = int(r_PopPoverty.json()[1][1])\n",
    "f'Estimate of the number of people of any age in poverty is {PopPoverty} people'"
   ]
  },
  {
   "cell_type": "markdown",
   "metadata": {},
   "source": [
    "## Estimate of the median household income"
   ]
  },
  {
   "cell_type": "code",
   "execution_count": 123,
   "metadata": {},
   "outputs": [
    {
     "data": {
      "text/plain": [
       "200"
      ]
     },
     "execution_count": 123,
     "metadata": {},
     "output_type": "execute_result"
    }
   ],
   "source": [
    "Name = 'B19013_001E'\n",
    "\"\"\"Estimate!!Median household income in the past 12 months (in 2018 inflation-adjusted dollars)\"\"\"\n",
    "\n",
    "# get Request\n",
    "r_median_household_income = requests.get(f'https://api.census.gov/data/2018/acs/acs1?get=NAME,{Name}&for=county:{County}&in=state:{State}&key={api_key}')\n",
    "#checking HTTP response status code for successfull response\n",
    "r_median_household_income.status_code "
   ]
  },
  {
   "cell_type": "code",
   "execution_count": 125,
   "metadata": {},
   "outputs": [
    {
     "data": {
      "text/plain": [
       "[['NAME', 'B19013_001E', 'state', 'county'],\n",
       " ['Harris County, Texas', '60232', '48', '201']]"
      ]
     },
     "execution_count": 125,
     "metadata": {},
     "output_type": "execute_result"
    }
   ],
   "source": [
    "# Observing Data\n",
    "r_median_household_income.json()"
   ]
  },
  {
   "cell_type": "code",
   "execution_count": 97,
   "metadata": {},
   "outputs": [
    {
     "data": {
      "text/plain": [
       "'Estimate of the median household income is $60232'"
      ]
     },
     "execution_count": 97,
     "metadata": {},
     "output_type": "execute_result"
    }
   ],
   "source": [
    "median_household_income = r_median_household_income.json()[1][1]\n",
    "f'Estimate of the median household income is ${median_household_income}'"
   ]
  },
  {
   "cell_type": "markdown",
   "metadata": {},
   "source": [
    "## Creating a csv File containing answers"
   ]
  },
  {
   "cell_type": "code",
   "execution_count": 126,
   "metadata": {},
   "outputs": [],
   "source": [
    "pd.DataFrame(data = [[est_18u_poverty,PopPoverty,median_household_income]], \n",
    "           columns = ['Estimate_of_the_number_of_people_under_the_age_of_18_in_poverty',\n",
    "                      'Estimate_of_the_number_of_people_of_any_age_in_poverty',\n",
    "                      'Estimate_of_the_median_household_income']).to_csv('./Exercise_Answers.csv')"
   ]
  }
 ],
 "metadata": {
  "kernelspec": {
   "display_name": "Python (learn-env)",
   "language": "python",
   "name": "learn-env"
  },
  "language_info": {
   "codemirror_mode": {
    "name": "ipython",
    "version": 3
   },
   "file_extension": ".py",
   "mimetype": "text/x-python",
   "name": "python",
   "nbconvert_exporter": "python",
   "pygments_lexer": "ipython3",
   "version": "3.8.5"
  }
 },
 "nbformat": 4,
 "nbformat_minor": 4
}
